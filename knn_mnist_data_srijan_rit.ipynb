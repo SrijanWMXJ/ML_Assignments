{
 "cells": [
  {
   "cell_type": "code",
   "execution_count": 119,
   "id": "9b5bf43e",
   "metadata": {},
   "outputs": [],
   "source": [
    "\"\"\"\n",
    "-----------------------------------------------------------------------------\n",
    "MNIST digit data reading helper\n",
    "-----------------------------------------------------------------------------\n",
    "\"\"\"\n",
    "\n",
    "import gzip\n",
    "import numpy as np\n",
    "import matplotlib.pyplot as plt\n",
    "import random\n",
    "import pandas as pd"
   ]
  },
  {
   "cell_type": "markdown",
   "id": "55c9e6c7",
   "metadata": {},
   "source": [
    "# Read MNIST data:\n",
    "There are many [ways](https://stackoverflow.com/questions/40427435/extract-images-from-idx3-ubyte-file-or-gzip-via-python) you can read the MNIST data. Here is a [way](https://stackoverflow.com/a/62781370) to read all the information."
   ]
  },
  {
   "cell_type": "code",
   "execution_count": 120,
   "id": "47ce6c3c",
   "metadata": {},
   "outputs": [
    {
     "name": "stdout",
     "output_type": "stream",
     "text": [
      "Train data (X) size: (60000, 28, 28), and labels (Y) size: (60000,)\n",
      "Test data (X) size: (10000, 28, 28), and labels (Y) size: (10000,)\n"
     ]
    },
    {
     "data": {
      "image/png": "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\n",
      "text/plain": [
       "<Figure size 432x288 with 1 Axes>"
      ]
     },
     "metadata": {
      "needs_background": "light"
     },
     "output_type": "display_data"
    },
    {
     "name": "stdout",
     "output_type": "stream",
     "text": [
      "Train image 28595-th sample \n",
      "[[  0   0   0   0   0   0   0   0   0   0   0   0   0   0   0   0   0   0\n",
      "    0   0   0   0   0   0   0   0   0   0]\n",
      " [  0   0   0   0   0   0   0   0   0   0   0   0   0   0   0   0   0   0\n",
      "    0   0   0   0   0   0   0   0   0   0]\n",
      " [  0   0   0   0   0   0   0   0   0   0   0   0   0   0   0   0   0   0\n",
      "    0   0   0   0   0   0   0   0   0   0]\n",
      " [  0   0   0   0   0   0   0   0   0   0   0   0   0   0   0   0   0   0\n",
      "    0   0   0   0   0   0   0   0   0   0]\n",
      " [  0   0   0   0   0   0   0   0   0   0   0   0   0   0   0   0   0   0\n",
      "    0   0   0   0   0   0   0   0   0   0]\n",
      " [  0   0   0   0   0   0   0   0   0  16  47  77 150 176 255 233 150 150\n",
      "  150  53  14   0   0   0   0   0   0   0]\n",
      " [  0   0   0   0   0   0   0   0   0 122 253 253 253 253 253 253 253 253\n",
      "  253 253 181  48   0   0   0   0   0   0]\n",
      " [  0   0   0   0   0   0   0   0  51 251 253 253 253 253 253 253 253 253\n",
      "  253 253 253 240 140  20   0   0   0   0]\n",
      " [  0   0   0   0   0   0   0   0 140 253 253 253 253 253 253 253 253 253\n",
      "  253 253 253 253 253 146   0   0   0   0]\n",
      " [  0   0   0   0   0   0   0   0 140 253 253 246 136 124 124 124  41 250\n",
      "  253 253 253 253 253 248  48   0   0   0]\n",
      " [  0   0   0   0   0   0   0   0 140 253 253 109   0   0   2  73 156 252\n",
      "  253 253 253 253 253 216  29   0   0   0]\n",
      " [  0   0   0   0   0   0   0   0 140 253 253 173   2  79 165 253 253 253\n",
      "  253 253 253 246 210  32   0   0   0   0]\n",
      " [  0   0   0   0   0   0   0   0 115 253 253 253 176 223 253 253 253 253\n",
      "  253 220 159  45   0   0   0   0   0   0]\n",
      " [  0   0   0   0   0   0   0   0   6 195 253 253 253 253 253 253 251 248\n",
      "  169  25   0   0   0   0   0   0   0   0]\n",
      " [  0   0   0   0   0   0   0   0   0  84 253 253 253 253 253 221  60   0\n",
      "    0   0   0   0   0   0   0   0   0   0]\n",
      " [  0   0   0   0   0   0   0   0  15 192 253 253 253 253 253 201   0   0\n",
      "    0   0   0   0   0   0   0   0   0   0]\n",
      " [  0   0   0   0   0   0   0   0 155 253 253 253 253 253 253 253 209   3\n",
      "    0   0   0   0   0   0   0   0   0   0]\n",
      " [  0   0   0   0   0   0   0   0 244 253 244 135  62 151 253 253 253 120\n",
      "    0   0   0   0   0   0   0   0   0   0]\n",
      " [  0   0   0   0   0   0   0  50 249 253 159   0   0   4 105 253 253 251\n",
      "   58   0   0   0   0   0   0   0   0   0]\n",
      " [  0   0   0   0   0   0   0  94 253 253  20   0   0   0   2 151 253 253\n",
      "  199  11   0   0   0   0   0   0   0   0]\n",
      " [  0   0   0   0   0   0   0  94 253 253 177  53  21  16   9  26 169 253\n",
      "  210   8   0   0   0   0   0   0   0   0]\n",
      " [  0   0   0   0   0   0   0  31 247 253 253 253 253 233 207 253 253 253\n",
      "  201   6   0   0   0   0   0   0   0   0]\n",
      " [  0   0   0   0   0   0   0   0 197 253 253 253 253 253 253 253 253 253\n",
      "  161   0   0   0   0   0   0   0   0   0]\n",
      " [  0   0   0   0   0   0   0   0  52 169 202 253 253 253 253 253 253 253\n",
      "   62   0   0   0   0   0   0   0   0   0]\n",
      " [  0   0   0   0   0   0   0   0   0   0   5  76 241 253 253 253 253 134\n",
      "   12   0   0   0   0   0   0   0   0   0]\n",
      " [  0   0   0   0   0   0   0   0   0   0   0   0   0   0   0   0   0   0\n",
      "    0   0   0   0   0   0   0   0   0   0]\n",
      " [  0   0   0   0   0   0   0   0   0   0   0   0   0   0   0   0   0   0\n",
      "    0   0   0   0   0   0   0   0   0   0]\n",
      " [  0   0   0   0   0   0   0   0   0   0   0   0   0   0   0   0   0   0\n",
      "    0   0   0   0   0   0   0   0   0   0]]\n"
     ]
    }
   ],
   "source": [
    "def read_images(filename):\n",
    "    \"\"\"Read MNIST images\"\"\"\n",
    "    \n",
    "    with gzip.open(filename, 'r') as f:\n",
    "        # first 4 bytes is a magic number\n",
    "        magic_number = int.from_bytes(f.read(4), 'big')\n",
    "        # second 4 bytes is the number of images\n",
    "        image_count = int.from_bytes(f.read(4), 'big')\n",
    "        # third 4 bytes is the row count\n",
    "        row_count = int.from_bytes(f.read(4), 'big')\n",
    "        # fourth 4 bytes is the column count\n",
    "        column_count = int.from_bytes(f.read(4), 'big')\n",
    "        # rest is the image pixel data, each pixel is stored as an unsigned byte\n",
    "        # pixel values are 0 to 255\n",
    "        image_data = f.read()\n",
    "        images = np.frombuffer(image_data, dtype=np.uint8).reshape((image_count, row_count, column_count))\n",
    "        \n",
    "    return images\n",
    "\n",
    "def read_labels(filename):\n",
    "    \"\"\"Read MNIST labels\"\"\"\n",
    "    \n",
    "    with gzip.open(filename, 'r') as f:\n",
    "        # first 4 bytes is a magic number\n",
    "        magic_number = int.from_bytes(f.read(4), 'big')\n",
    "        # second 4 bytes is the number of labels\n",
    "        label_count = int.from_bytes(f.read(4), 'big')\n",
    "        # rest is the label data, each label is stored as unsigned byte\n",
    "        # label values are 0 to 9\n",
    "        label_data = f.read()\n",
    "        labels = np.frombuffer(label_data, dtype=np.uint8)\n",
    "        \n",
    "    return labels\n",
    "\n",
    "\n",
    "dataset_path = ''\n",
    "\n",
    "train_image_filename = ''.join([dataset_path, 'train-images-idx3-ubyte.gz'])\n",
    "train_label_filename = ''.join([dataset_path, 'train-labels-idx1-ubyte.gz'])\n",
    "\n",
    "test_image_filename = ''.join([dataset_path, 't10k-images-idx3-ubyte.gz'])\n",
    "test_label_filename = ''.join([dataset_path, 't10k-labels-idx1-ubyte.gz'])\n",
    "\n",
    "train_images = read_images(train_image_filename)\n",
    "train_labels = read_labels(train_label_filename)\n",
    "print('Train data (X) size: {}, and labels (Y) size: {}' .format(train_images.shape, train_labels.shape))\n",
    "\n",
    "test_images = read_images(test_image_filename)\n",
    "test_labels = read_labels(test_label_filename)\n",
    "print('Test data (X) size: {}, and labels (Y) size: {}' .format(test_images.shape, test_labels.shape))\n",
    "\n",
    "rand_ids = np.random.choice(train_images.shape[0])\n",
    "plt.imshow(train_images[rand_ids, :, :], cmap='gray')\n",
    "plt.title('class-'+str(train_labels[rand_ids]))\n",
    "plt.show()\n",
    "\n",
    "print('Train image {}-th sample ' .format(rand_ids))\n",
    "print(train_images[rand_ids, :, :])\n",
    "\n"
   ]
  },
  {
   "cell_type": "markdown",
   "id": "54daa6a9",
   "metadata": {},
   "source": [
    "# Extract 20% data from thhe training data as a validation set.
   ]
  },
  {
   "cell_type": "code",
   "execution_count": 121,
   "id": "09a49711",
   "metadata": {},
   "outputs": [
    {
     "name": "stdout",
     "output_type": "stream",
     "text": [
      "(48000, 28, 28)\n",
      "(48000,)\n",
      "(12000, 28, 28)\n",
      "(12000,)\n"
     ]
    }
   ],
   "source": [
    "# Your validation set extraction script/code\n",
    "random_index = random.sample(range(0, 60000), 60000)\n",
    "\n",
    "valid_index = random_index[:12000]\n",
    "train_index = random_index[12000:]\n",
    "\n",
    "validation_dataset = np.zeros((12000, 28, 28), dtype = 'float')\n",
    "validation_labels = np.zeros((12000,), dtype = 'float')\n",
    "training_dataset = np.zeros((48000, 28, 28), dtype = 'float')\n",
    "training_labels = np.zeros((48000,), dtype = 'float')\n",
    "\n",
    "for c,i in enumerate(valid_index):\n",
    "    validation_dataset[c] = train_images[i]\n",
    "    validation_labels[c] = train_labels[i]\n",
    "\n",
    "for c,i in enumerate(train_index):\n",
    "    training_dataset[c] = train_images[i]\n",
    "    training_labels[c] = train_labels[i]\n",
    "    \n",
    "print(training_dataset.shape)\n",
    "print(training_labels.shape)\n",
    "print(validation_dataset.shape)\n",
    "print(validation_labels.shape)"
   ]
  },
  {
   "cell_type": "code",
   "execution_count": 122,
   "id": "bdc7df07",
   "metadata": {},
   "outputs": [
    {
     "data": {
      "image/png": "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\n",
      "text/plain": [
       "<Figure size 432x288 with 1 Axes>"
      ]
     },
     "metadata": {
      "needs_background": "light"
     },
     "output_type": "display_data"
    },
    {
     "data": {
      "text/plain": [
       "6.0"
      ]
     },
     "execution_count": 122,
     "metadata": {},
     "output_type": "execute_result"
    }
   ],
   "source": [
    "plt.imshow(training_dataset[376],cmap='gray')\n",
    "plt.show()\n",
    "training_labels[376]"
   ]
  },
  {
   "cell_type": "code",
   "execution_count": 123,
   "id": "13ccc8f0",
   "metadata": {},
   "outputs": [
    {
     "data": {
      "image/png": "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\n",
      "text/plain": [
       "<Figure size 432x288 with 1 Axes>"
      ]
     },
     "metadata": {
      "needs_background": "light"
     },
     "output_type": "display_data"
    },
    {
     "data": {
      "text/plain": [
       "3.0"
      ]
     },
     "execution_count": 123,
     "metadata": {},
     "output_type": "execute_result"
    }
   ],
   "source": [
    "plt.imshow(validation_dataset[376], cmap = 'gray')\n",
    "plt.show()\n",
    "validation_labels[376]"
   ]
  },
  {
   "cell_type": "code",
   "execution_count": 124,
   "id": "939686e0",
   "metadata": {},
   "outputs": [
    {
     "name": "stdout",
     "output_type": "stream",
     "text": [
      "(48000, 784)\n",
      "(12000, 784)\n",
      "(10000, 784)\n"
     ]
    }
   ],
   "source": [
    "# Your k-NN algorithm script/code\n",
    "\n",
    "train_X = training_dataset.reshape(48000, 28*28)\n",
    "valid_X = validation_dataset.reshape(12000, 28*28)\n",
    "test_X = test_images.reshape(10000, 28*28)\n",
    "\n",
    "print(train_X.shape)\n",
    "print(valid_X.shape)\n",
    "print(test_X.shape)"
   ]
  },
  {
   "cell_type": "code",
   "execution_count": 125,
   "id": "f5a73d8f",
   "metadata": {},
   "outputs": [],
   "source": [
    "#kNN for Euclidean distance\n",
    "def knne(train_X,training_labels,valid_X,k_set):\n",
    "    predict=np.zeros((len(valid_X),len(k_set)))\n",
    "    for j in range(len(valid_X)):\n",
    "        distances=np.sqrt(np.sum((train_X-valid_X[j])**2,axis=1))\n",
    "        for i,k in enumerate(k_set):\n",
    "            k_nearest = np.argsort(distances)[:k]\n",
    "            k_nearest_labels=[training_labels[index] for index in k_nearest]\n",
    "            majority=np.bincount(k_nearest_labels).argmax()\n",
    "            predict[j,i]=majority\n",
    "    return predict\n"
   ]
  },
  {
   "cell_type": "code",
   "execution_count": 126,
   "id": "36756ce0",
   "metadata": {},
   "outputs": [],
   "source": [
    "#kNN for Manhattan Distance\n",
    "def knnm(train_X,training_labels,valid_X,k_set):\n",
    "    predict=np.zeros((len(valid_X),len(k_set)))\n",
    "    for j in range(len(valid_X)):\n",
    "        distances=np.sum(np.abs(train_X-valid_X[j]),axis=1)\n",
    "        for i,k in enumerate(k_set):\n",
    "            k_nearest = np.argsort(distances)[:k]\n",
    "            k_nearest_labels=[training_labels[index] for index in k_nearest]\n",
    "            majority=np.bincount(k_nearest_labels).argmax()\n",
    "            predict[j,i]=majority\n",
    "    return predict"
   ]
  },
  {
   "cell_type": "code",
   "execution_count": 127,
   "id": "e3f663cd",
   "metadata": {},
   "outputs": [],
   "source": [
    "#kNN for Chebychev's Distance\n",
    "def knnc(train_X,training_labels,valid_X,k_set):\n",
    "    predict=np.zeros((len(valid_X),len(k_set)))\n",
    "    for j in range(len(valid_X)):\n",
    "        distances=np.max(np.abs(train_X-valid_X[j]),axis=1)\n",
    "        for i,k in enumerate(k_set):\n",
    "            k_nearest = np.argsort(distances)[:k]\n",
    "            k_nearest_labels=[training_labels[index] for index in k_nearest]\n",
    "            majority=np.bincount(k_nearest_labels).argmax()\n",
    "            predict[j,i]=majority\n",
    "    return predict"
   ]
  },
  {
   "cell_type": "code",
   "execution_count": 128,
   "id": "9391ccd7",
   "metadata": {},
   "outputs": [
    {
     "name": "stdout",
     "output_type": "stream",
     "text": [
      "[ 1  3  5  7  9 11 13 15 17 19 21 23 25]\n",
      "[1 2 3]\n"
     ]
    }
   ],
   "source": [
    "k_set= np.arange(1,26,2)\n",
    "print(k_set)\n",
    "metrics= np.array([1,2,3])\n",
    "print(metrics)"
   ]
  },
  {
   "cell_type": "code",
   "execution_count": 130,
   "id": "19f9c96d",
   "metadata": {},
   "outputs": [
    {
     "name": "stdout",
     "output_type": "stream",
     "text": [
      "(13, 3)\n"
     ]
    }
   ],
   "source": [
    "accuracy=np.zeros((len(k_set),len(metrics)))\n",
    "print(accuracy.shape)"
   ]
  },
  {
   "cell_type": "code",
   "execution_count": 131,
   "id": "26a0f608",
   "metadata": {},
   "outputs": [],
   "source": [
    "ym_pred=knnm(train_X,training_labels,valid_X,k_set)\n",
    "for i in range(len(k_set)):\n",
    "    accuracy[i,0]=np.mean(ym_pred[:,i]==validation_labels)*100"
   ]
  },
  {
   "cell_type": "code",
   "execution_count": 132,
   "id": "90168524",
   "metadata": {},
   "outputs": [],
   "source": [
    "ye_pred=knne(train_X,training_labels,valid_X,k_set)\n",
    "for i in range(len(k_set)):\n",
    "    accuracy[i,1]=np.mean(ye_pred[:,i]==validation_labels)*100"
   ]
  },
  {
   "cell_type": "code",
   "execution_count": 133,
   "id": "a6b1aba5",
   "metadata": {},
   "outputs": [],
   "source": [
    "yc_pred=knnc(train_X,training_labels,valid_X,k_set)\n",
    "for i in range(len(k_set)):\n",
    "    accuracy[i,2]=np.mean(yc_pred[:,i]==validation_labels)*100"
   ]
  },
  {
   "cell_type": "code",
   "execution_count": 134,
   "id": "efb0e67c",
   "metadata": {},
   "outputs": [
    {
     "name": "stdout",
     "output_type": "stream",
     "text": [
      "Accuracy matrix for p's and k's is\n",
      " [[96.39166667 96.975      81.50833333]\n",
      " [96.3        97.05833333 79.925     ]\n",
      " [96.31666667 96.96666667 79.99166667]\n",
      " [96.31666667 96.93333333 80.01666667]\n",
      " [96.03333333 96.81666667 79.58333333]\n",
      " [95.89166667 96.55       79.45      ]\n",
      " [95.675      96.40833333 79.03333333]\n",
      " [95.53333333 96.29166667 78.78333333]\n",
      " [95.38333333 96.20833333 78.46666667]\n",
      " [95.29166667 96.09166667 78.03333333]\n",
      " [95.13333333 95.95833333 77.83333333]\n",
      " [95.09166667 95.89166667 77.68333333]\n",
      " [94.98333333 95.85       77.30833333]]\n"
     ]
    }
   ],
   "source": [
    "print(\"Accuracy matrix for p's and k's is\\n\",accuracy)"
   ]
  },
  {
   "cell_type": "code",
   "execution_count": 140,
   "id": "d11b09c6",
   "metadata": {},
   "outputs": [
    {
     "data": {
      "image/png": "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\n",
      "text/plain": [
       "<Figure size 432x288 with 1 Axes>"
      ]
     },
     "metadata": {
      "needs_background": "light"
     },
     "output_type": "display_data"
    }
   ],
   "source": [
    "#Plotting lines for accuracy for corresponding k and p values\n",
    "fig=plt.figure()\n",
    "ax= fig.add_subplot(111,projection='3d')\n",
    "k_coo,p_coo = np.meshgrid(k_set,metrics)\n",
    "ax.scatter(k_coo,p_coo,accuracy.T)\n",
    "ax.set_xlabel('k')\n",
    "ax.set_ylabel('p')\n",
    "ax.set_zlabel('Accuracy')\n",
    "plt.show()"
   ]
  },
  {
   "cell_type": "code",
   "execution_count": 141,
   "id": "878a1a43",
   "metadata": {},
   "outputs": [
    {
     "data": {
      "image/png": "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\n",
      "text/plain": [
       "<Figure size 432x288 with 1 Axes>"
      ]
     },
     "metadata": {
      "needs_background": "light"
     },
     "output_type": "display_data"
    }
   ],
   "source": [
    "#Plotting 3D surface of accuracy for corresponding k and p values\n",
    "fig=plt.figure()\n",
    "ax= fig.add_subplot(111,projection='3d')\n",
    "k_coo,p_coo = np.meshgrid(k_set,metrics)\n",
    "ax.plot_surface(k_coo,p_coo,accuracy.T)\n",
    "ax.set_xlabel('k')\n",
    "ax.set_ylabel('p')\n",
    "ax.set_zlabel('Accuracy')\n",
    "plt.show()"
   ]
  },
  {
   "cell_type": "code",
   "execution_count": 137,
   "id": "3d0eac22",
   "metadata": {},
   "outputs": [
    {
     "name": "stdout",
     "output_type": "stream",
     "text": [
      "Accuracy on the test dataset is  96.85000000000001\n"
     ]
    }
   ],
   "source": [
    "#Applying the kNN classifier with parameters k=3 and Euclidean distance on the test dataset\n",
    "y_pred=knne(train_X,training_labels,test_X,[3])\n",
    "a=np.mean(y_pred[:,0]==test_labels)*100\n",
    "print('Accuracy on the test dataset is ',a)"
   ]
  },
  {
   "cell_type": "code",
   "execution_count": 139,
   "id": "91df59a7",
   "metadata": {},
   "outputs": [
    {
     "data": {
      "text/html": [
       "<div>\n",
       "<style scoped>\n",
       "    .dataframe tbody tr th:only-of-type {\n",
       "        vertical-align: middle;\n",
       "    }\n",
       "\n",
       "    .dataframe tbody tr th {\n",
       "        vertical-align: top;\n",
       "    }\n",
       "\n",
       "    .dataframe thead th {\n",
       "        text-align: right;\n",
       "    }\n",
       "</style>\n",
       "<table border=\"1\" class=\"dataframe\">\n",
       "  <thead>\n",
       "    <tr style=\"text-align: right;\">\n",
       "      <th>col_0</th>\n",
       "      <th>0.0</th>\n",
       "      <th>1.0</th>\n",
       "      <th>2.0</th>\n",
       "      <th>3.0</th>\n",
       "      <th>4.0</th>\n",
       "      <th>5.0</th>\n",
       "      <th>6.0</th>\n",
       "      <th>7.0</th>\n",
       "      <th>8.0</th>\n",
       "      <th>9.0</th>\n",
       "    </tr>\n",
       "    <tr>\n",
       "      <th>row_0</th>\n",
       "      <th></th>\n",
       "      <th></th>\n",
       "      <th></th>\n",
       "      <th></th>\n",
       "      <th></th>\n",
       "      <th></th>\n",
       "      <th></th>\n",
       "      <th></th>\n",
       "      <th></th>\n",
       "      <th></th>\n",
       "    </tr>\n",
       "  </thead>\n",
       "  <tbody>\n",
       "    <tr>\n",
       "      <th>0</th>\n",
       "      <td>974</td>\n",
       "      <td>1</td>\n",
       "      <td>1</td>\n",
       "      <td>0</td>\n",
       "      <td>0</td>\n",
       "      <td>0</td>\n",
       "      <td>2</td>\n",
       "      <td>1</td>\n",
       "      <td>1</td>\n",
       "      <td>0</td>\n",
       "    </tr>\n",
       "    <tr>\n",
       "      <th>1</th>\n",
       "      <td>0</td>\n",
       "      <td>1132</td>\n",
       "      <td>2</td>\n",
       "      <td>1</td>\n",
       "      <td>0</td>\n",
       "      <td>0</td>\n",
       "      <td>0</td>\n",
       "      <td>0</td>\n",
       "      <td>0</td>\n",
       "      <td>0</td>\n",
       "    </tr>\n",
       "    <tr>\n",
       "      <th>2</th>\n",
       "      <td>10</td>\n",
       "      <td>7</td>\n",
       "      <td>992</td>\n",
       "      <td>2</td>\n",
       "      <td>2</td>\n",
       "      <td>0</td>\n",
       "      <td>0</td>\n",
       "      <td>16</td>\n",
       "      <td>3</td>\n",
       "      <td>0</td>\n",
       "    </tr>\n",
       "    <tr>\n",
       "      <th>3</th>\n",
       "      <td>0</td>\n",
       "      <td>1</td>\n",
       "      <td>4</td>\n",
       "      <td>977</td>\n",
       "      <td>1</td>\n",
       "      <td>15</td>\n",
       "      <td>1</td>\n",
       "      <td>7</td>\n",
       "      <td>3</td>\n",
       "      <td>1</td>\n",
       "    </tr>\n",
       "    <tr>\n",
       "      <th>4</th>\n",
       "      <td>2</td>\n",
       "      <td>7</td>\n",
       "      <td>0</td>\n",
       "      <td>0</td>\n",
       "      <td>945</td>\n",
       "      <td>0</td>\n",
       "      <td>4</td>\n",
       "      <td>3</td>\n",
       "      <td>0</td>\n",
       "      <td>21</td>\n",
       "    </tr>\n",
       "    <tr>\n",
       "      <th>5</th>\n",
       "      <td>5</td>\n",
       "      <td>0</td>\n",
       "      <td>0</td>\n",
       "      <td>12</td>\n",
       "      <td>2</td>\n",
       "      <td>860</td>\n",
       "      <td>6</td>\n",
       "      <td>1</td>\n",
       "      <td>2</td>\n",
       "      <td>4</td>\n",
       "    </tr>\n",
       "    <tr>\n",
       "      <th>6</th>\n",
       "      <td>7</td>\n",
       "      <td>3</td>\n",
       "      <td>0</td>\n",
       "      <td>0</td>\n",
       "      <td>2</td>\n",
       "      <td>2</td>\n",
       "      <td>944</td>\n",
       "      <td>0</td>\n",
       "      <td>0</td>\n",
       "      <td>0</td>\n",
       "    </tr>\n",
       "    <tr>\n",
       "      <th>7</th>\n",
       "      <td>0</td>\n",
       "      <td>20</td>\n",
       "      <td>4</td>\n",
       "      <td>0</td>\n",
       "      <td>3</td>\n",
       "      <td>0</td>\n",
       "      <td>0</td>\n",
       "      <td>988</td>\n",
       "      <td>0</td>\n",
       "      <td>13</td>\n",
       "    </tr>\n",
       "    <tr>\n",
       "      <th>8</th>\n",
       "      <td>8</td>\n",
       "      <td>3</td>\n",
       "      <td>4</td>\n",
       "      <td>14</td>\n",
       "      <td>6</td>\n",
       "      <td>12</td>\n",
       "      <td>4</td>\n",
       "      <td>7</td>\n",
       "      <td>912</td>\n",
       "      <td>4</td>\n",
       "    </tr>\n",
       "    <tr>\n",
       "      <th>9</th>\n",
       "      <td>5</td>\n",
       "      <td>6</td>\n",
       "      <td>3</td>\n",
       "      <td>8</td>\n",
       "      <td>11</td>\n",
       "      <td>3</td>\n",
       "      <td>1</td>\n",
       "      <td>9</td>\n",
       "      <td>2</td>\n",
       "      <td>961</td>\n",
       "    </tr>\n",
       "  </tbody>\n",
       "</table>\n",
       "</div>"
      ],
      "text/plain": [
       "col_0  0.0   1.0  2.0  3.0  4.0  5.0  6.0  7.0  8.0  9.0\n",
       "row_0                                                   \n",
       "0      974     1    1    0    0    0    2    1    1    0\n",
       "1        0  1132    2    1    0    0    0    0    0    0\n",
       "2       10     7  992    2    2    0    0   16    3    0\n",
       "3        0     1    4  977    1   15    1    7    3    1\n",
       "4        2     7    0    0  945    0    4    3    0   21\n",
       "5        5     0    0   12    2  860    6    1    2    4\n",
       "6        7     3    0    0    2    2  944    0    0    0\n",
       "7        0    20    4    0    3    0    0  988    0   13\n",
       "8        8     3    4   14    6   12    4    7  912    4\n",
       "9        5     6    3    8   11    3    1    9    2  961"
      ]
     },
     "execution_count": 139,
     "metadata": {},
     "output_type": "execute_result"
    }
   ],
   "source": [
    "#Confusion Matrix\n",
    "pd.crosstab([test_labels], [y_pred[:,0]])"
   ]
  },
  {
   "cell_type": "code",
   "execution_count": null,
   "id": "9429a4b7",
   "metadata": {},
   "outputs": [],
   "source": []
  },
  {
   "cell_type": "code",
   "execution_count": 96,
   "id": "7dd03c8a",
   "metadata": {},
   "outputs": [
    {
     "name": "stdout",
     "output_type": "stream",
     "text": [
      "[1 3 5]\n",
      "[1 2 3]\n",
      "(3, 3)\n"
     ]
    },
    {
     "data": {
      "image/png": "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\n",
      "text/plain": [
       "<Figure size 432x288 with 1 Axes>"
      ]
     },
     "metadata": {
      "needs_background": "light"
     },
     "output_type": "display_data"
    },
    {
     "name": "stdout",
     "output_type": "stream",
     "text": [
      "734.0886560539984\n"
     ]
    }
   ],
   "source": [
    "#Quick Check_Not Necessary\n",
    "from timeit import default_timer as timer\n",
    "start = timer()\n",
    "setk= np.arange(1,6,2)\n",
    "print(setk)\n",
    "met= np.array([1,2,3])\n",
    "print(met)\n",
    "accu=np.zeros((len(setk),len(met)))\n",
    "print(accu.shape)\n",
    "\n",
    "ym_pred=knnm(train_X,training_labels,valid_X[:1000],setk)\n",
    "ye_pred=knne(train_X,training_labels,valid_X[:1000],setk)\n",
    "yc_pred=knnc(train_X,training_labels,valid_X[:1000],setk)\n",
    "\n",
    "for i in range(len(setk)):\n",
    "    accu[i,0]=np.mean(ym_pred[:,i]==validation_labels[:1000])*100\n",
    "    accu[i,1]=np.mean(ye_pred[:,i]==validation_labels[:1000])*100\n",
    "    accu[i,2]=np.mean(yc_pred[:,i]==validation_labels[:1000])*100\n",
    "\n",
    "fig=plt.figure()\n",
    "ax= fig.add_subplot(111,projection='3d')\n",
    "k_coo,p_coo = np.meshgrid(setk,met)\n",
    "ax.plot_surface(k_coo,p_coo,accu.T)\n",
    "ax.set_xlabel('k')\n",
    "ax.set_ylabel('p')\n",
    "ax.set_zlabel('Accuracy')\n",
    "plt.show()\n",
    "\n",
    "end = timer()\n",
    "print(end - start)"
   ]
  },
  {
   "cell_type": "code",
   "execution_count": 97,
   "id": "d18c7786",
   "metadata": {
    "scrolled": true
   },
   "outputs": [
    {
     "name": "stdout",
     "output_type": "stream",
     "text": [
      "[[97.3 97.4 82. ]\n",
      " [96.7 97.6 80.1]\n",
      " [96.4 97.2 80.8]]\n"
     ]
    }
   ],
   "source": [
    "print(accu)"
   ]
  },
  {
   "cell_type": "code",
   "execution_count": 98,
   "id": "ef4c566e",
   "metadata": {},
   "outputs": [
    {
     "name": "stdout",
     "output_type": "stream",
     "text": [
      "[1 3 5]\n",
      "[1 2 3]\n"
     ]
    }
   ],
   "source": [
    "print(setk)\n",
    "print(met)"
   ]
  }
 ],
 "metadata": {
  "kernelspec": {
   "display_name": "Python 3",
   "language": "python",
   "name": "python3"
  },
  "language_info": {
   "codemirror_mode": {
    "name": "ipython",
    "version": 3
   },
   "file_extension": ".py",
   "mimetype": "text/x-python",
   "name": "python",
   "nbconvert_exporter": "python",
   "pygments_lexer": "ipython3",
   "version": "3.8.8"
  }
 },
 "nbformat": 4,
 "nbformat_minor": 5
}
