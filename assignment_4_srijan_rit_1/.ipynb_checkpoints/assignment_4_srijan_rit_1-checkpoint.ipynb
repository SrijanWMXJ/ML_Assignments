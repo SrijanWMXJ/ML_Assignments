{
 "cells": [
  {
   "cell_type": "code",
   "execution_count": 1,
   "metadata": {},
   "outputs": [],
   "source": [
    "import numpy as np\n",
    "import pandas as pd\n",
    "import matplotlib.pyplot as plt"
   ]
  },
  {
   "cell_type": "code",
   "execution_count": 2,
   "metadata": {},
   "outputs": [
    {
     "data": {
      "text/html": [
       "<div>\n",
       "<style scoped>\n",
       "    .dataframe tbody tr th:only-of-type {\n",
       "        vertical-align: middle;\n",
       "    }\n",
       "\n",
       "    .dataframe tbody tr th {\n",
       "        vertical-align: top;\n",
       "    }\n",
       "\n",
       "    .dataframe thead th {\n",
       "        text-align: right;\n",
       "    }\n",
       "</style>\n",
       "<table border=\"1\" class=\"dataframe\">\n",
       "  <thead>\n",
       "    <tr style=\"text-align: right;\">\n",
       "      <th></th>\n",
       "      <th>x</th>\n",
       "      <th>y</th>\n",
       "      <th>labels</th>\n",
       "    </tr>\n",
       "  </thead>\n",
       "  <tbody>\n",
       "    <tr>\n",
       "      <th>48</th>\n",
       "      <td>16.605016</td>\n",
       "      <td>10.179379</td>\n",
       "      <td>1.0</td>\n",
       "    </tr>\n",
       "    <tr>\n",
       "      <th>177</th>\n",
       "      <td>13.504325</td>\n",
       "      <td>18.746502</td>\n",
       "      <td>2.0</td>\n",
       "    </tr>\n",
       "    <tr>\n",
       "      <th>169</th>\n",
       "      <td>10.273078</td>\n",
       "      <td>17.971586</td>\n",
       "      <td>2.0</td>\n",
       "    </tr>\n",
       "    <tr>\n",
       "      <th>69</th>\n",
       "      <td>21.435565</td>\n",
       "      <td>6.390902</td>\n",
       "      <td>1.0</td>\n",
       "    </tr>\n",
       "    <tr>\n",
       "      <th>198</th>\n",
       "      <td>9.457107</td>\n",
       "      <td>19.779723</td>\n",
       "      <td>2.0</td>\n",
       "    </tr>\n",
       "  </tbody>\n",
       "</table>\n",
       "</div>"
      ],
      "text/plain": [
       "             x          y  labels\n",
       "48   16.605016  10.179379     1.0\n",
       "177  13.504325  18.746502     2.0\n",
       "169  10.273078  17.971586     2.0\n",
       "69   21.435565   6.390902     1.0\n",
       "198   9.457107  19.779723     2.0"
      ]
     },
     "execution_count": 2,
     "metadata": {},
     "output_type": "execute_result"
    }
   ],
   "source": [
    "df=pd.read_csv(\"annotated_points_np_200.csv\")\n",
    "df.sample(5)"
   ]
  },
  {
   "cell_type": "code",
   "execution_count": 3,
   "metadata": {},
   "outputs": [
    {
     "data": {
      "text/plain": [
       "(200, 3)"
      ]
     },
     "execution_count": 3,
     "metadata": {},
     "output_type": "execute_result"
    }
   ],
   "source": [
    "X=np.column_stack([df[[\"x\",\"y\"]].values,np.ones((200,1))])\n",
    "X.shape"
   ]
  },
  {
   "cell_type": "code",
   "execution_count": 4,
   "metadata": {},
   "outputs": [],
   "source": [
    "Y=df[\"labels\"].values\n",
    "Y[Y==2]=-1"
   ]
  },
  {
   "cell_type": "code",
   "execution_count": 5,
   "metadata": {},
   "outputs": [],
   "source": [
    "def perceptron(X,Y,w):\n",
    "    f=1\n",
    "    while f==1:\n",
    "        f=0\n",
    "        for i in range(200):\n",
    "            if Y[i]*np.dot(X[i,:],w)<=0:\n",
    "                w=w+Y[i]*X[i,:]\n",
    "                f=1\n",
    "                print(\"Updated value of w is \",w)\n",
    "    \n",
    "    return w"
   ]
  },
  {
   "cell_type": "code",
   "execution_count": 6,
   "metadata": {},
   "outputs": [
    {
     "name": "stdout",
     "output_type": "stream",
     "text": [
      "Updated value of w is  [17.09459827  4.62581617  1.        ]\n",
      "Updated value of w is  [ 9.20415601 -4.17593456  0.        ]\n",
      "Updated value of w is  [ -0.4487842 -14.6566693  -1.       ]\n",
      "Updated value of w is  [ 16.64581407 -10.03085312   0.        ]\n",
      "Updated value of w is  [  8.75537181 -18.83260386  -1.        ]\n",
      "Updated value of w is  [28.23260621 -9.34203918  0.        ]\n",
      "Updated value of w is  [ 20.34216396 -18.14378991  -1.        ]\n",
      "Updated value of w is  [ 10.68922374 -28.62452465  -2.        ]\n",
      "Updated value of w is  [ 28.82826525 -21.88921576  -1.        ]\n",
      "Updated value of w is  [ 20.93782299 -30.69096649  -2.        ]\n",
      "Updated value of w is  [ 42.69977697 -15.00107627  -1.        ]\n",
      "Updated value of w is  [ 34.80933471 -23.80282701  -2.        ]\n",
      "Updated value of w is  [ 25.15639449 -34.28356174  -3.        ]\n",
      "Updated value of w is  [ 44.04612958 -20.22960465  -2.        ]\n",
      "Updated value of w is  [ 36.15568732 -29.03135538  -3.        ]\n",
      "Updated value of w is  [ 26.5027471  -39.51209012  -4.        ]\n",
      "Updated value of w is  [ 48.26470108 -23.8221999   -3.        ]\n",
      "Updated value of w is  [ 40.37425883 -32.62395064  -4.        ]\n",
      "Updated value of w is  [ 30.72131861 -43.10468537  -5.        ]\n",
      "Updated value of w is  [ 52.48327259 -27.41479515  -4.        ]\n",
      "Updated value of w is  [ 44.59283033 -36.21654589  -5.        ]\n",
      "Updated value of w is  [ 34.93989012 -46.69728062  -6.        ]\n",
      "Updated value of w is  [ 53.8296252  -32.64332353  -5.        ]\n",
      "Updated value of w is  [ 45.93918294 -41.44507426  -6.        ]\n",
      "Updated value of w is  [ 36.28624272 -51.925809    -7.        ]\n",
      "Updated value of w is  [ 58.0481967  -36.23591878  -6.        ]\n",
      "Updated value of w is  [ 50.15775445 -45.03766951  -7.        ]\n",
      "Updated value of w is  [ 40.50481423 -55.51840425  -8.        ]\n",
      "Updated value of w is  [ 60.43899255 -41.07698931  -7.        ]\n",
      "Updated value of w is  [ 52.54855029 -49.87874004  -8.        ]\n"
     ]
    }
   ],
   "source": [
    "#Initializing with zero vector\n",
    "W=np.zeros(3)\n",
    "W=perceptron(X,Y,W)"
   ]
  },
  {
   "cell_type": "code",
   "execution_count": 7,
   "metadata": {},
   "outputs": [
    {
     "data": {
      "text/plain": [
       "array([ 52.54855029, -49.87874004,  -8.        ])"
      ]
     },
     "execution_count": 7,
     "metadata": {},
     "output_type": "execute_result"
    }
   ],
   "source": [
    "W"
   ]
  },
  {
   "cell_type": "code",
   "execution_count": 8,
   "metadata": {},
   "outputs": [],
   "source": [
    "xx=np.linspace(0,30)\n",
    "yy=(-W[2]-W[0]*xx)/W[1]"
   ]
  },
  {
   "cell_type": "code",
   "execution_count": 9,
   "metadata": {},
   "outputs": [
    {
     "data": {
      "text/plain": [
       "Text(0.5, 1.0, '1.0 Scatterplot along with Seperating hyperplane')"
      ]
     },
     "execution_count": 9,
     "metadata": {},
     "output_type": "execute_result"
    },
    {
     "data": {
      "image/png": "[encoded data removed]",
      "text/plain": [
       "<Figure size 504x504 with 1 Axes>"
      ]
     },
     "metadata": {
      "needs_background": "light"
     },
     "output_type": "display_data"
    }
   ],
   "source": [
    "plt.figure(figsize=(7,7))\n",
    "plt.scatter(X[0:100,0],X[0:100,1],color=\"red\",marker='+')\n",
    "plt.scatter(X[100:200,0],X[100:200,1],color=\"blue\",marker='*')\n",
    "plt.plot(xx,yy)\n",
    "plt.title(\"1.0 Scatterplot along with Seperating hyperplane\")"
   ]
  },
  {
   "cell_type": "code",
   "execution_count": 10,
   "metadata": {},
   "outputs": [
    {
     "data": {
      "text/plain": [
       "array([0.20019389, 0.99335672, 0.72011646])"
      ]
     },
     "execution_count": 10,
     "metadata": {},
     "output_type": "execute_result"
    }
   ],
   "source": [
    "#Initializing w as a random vector\n",
    "W1=np.random.uniform(size=(3,)); W1"
   ]
  },
  {
   "cell_type": "code",
   "execution_count": 11,
   "metadata": {},
   "outputs": [
    {
     "name": "stdout",
     "output_type": "stream",
     "text": [
      "Updated value of w is  [-7.69024837 -7.80839402 -0.27988354]\n",
      "Updated value of w is  [ 9.4043499  -3.18257784  0.72011646]\n",
      "Updated value of w is  [  1.51390764 -11.98432858  -0.27988354]\n",
      "Updated value of w is  [18.60850591 -7.35851241  0.72011646]\n",
      "Updated value of w is  [ 10.71806366 -16.16026314  -0.27988354]\n",
      "Updated value of w is  [32.48001764 -0.47037292  0.72011646]\n",
      "Updated value of w is  [24.58957538 -9.27212366 -0.27988354]\n",
      "Updated value of w is  [ 14.93663516 -19.75285839  -1.27988354]\n",
      "Updated value of w is  [40.61525128  0.06991552 -0.27988354]\n",
      "Updated value of w is  [32.72480902 -8.73183522 -1.27988354]\n",
      "Updated value of w is  [ 23.0718688  -19.21256995  -2.27988354]\n",
      "Updated value of w is  [ 11.16684786 -31.88889915  -3.27988354]\n",
      "Updated value of w is  [ 29.30588937 -25.15359026  -2.27988354]\n",
      "Updated value of w is  [ 21.41544711 -33.95534099  -3.27988354]\n",
      "Updated value of w is  [ 43.27531764 -19.55697692  -2.27988354]\n",
      "Updated value of w is  [ 35.38487539 -28.35872766  -3.27988354]\n",
      "Updated value of w is  [ 25.73193517 -38.83946239  -4.27988354]\n",
      "Updated value of w is  [ 47.5918057  -24.44109833  -3.27988354]\n",
      "Updated value of w is  [ 39.70136344 -33.24284906  -4.27988354]\n",
      "Updated value of w is  [ 30.04842323 -43.7235838   -5.27988354]\n",
      "Updated value of w is  [ 51.81037721 -28.03369358  -4.27988354]\n",
      "Updated value of w is  [ 43.91993495 -36.83544431  -5.27988354]\n",
      "Updated value of w is  [ 34.26699473 -47.31617905  -6.27988354]\n",
      "Updated value of w is  [ 56.02894871 -31.62628883  -5.27988354]\n",
      "Updated value of w is  [ 48.13850646 -40.42803956  -6.27988354]\n",
      "Updated value of w is  [ 38.48556624 -50.9087743   -7.27988354]\n",
      "Updated value of w is  [ 64.16418235 -31.08600039  -6.27988354]\n",
      "Updated value of w is  [ 56.2737401  -39.88775112  -7.27988354]\n",
      "Updated value of w is  [ 46.62079988 -50.36848586  -8.27988354]\n"
     ]
    },
    {
     "data": {
      "text/plain": [
       "array([ 46.62079988, -50.36848586,  -8.27988354])"
      ]
     },
     "execution_count": 11,
     "metadata": {},
     "output_type": "execute_result"
    }
   ],
   "source": [
    "W1=perceptron(X,Y,W1); W1"
   ]
  },
  {
   "cell_type": "code",
   "execution_count": 12,
   "metadata": {},
   "outputs": [],
   "source": [
    "xx=np.linspace(0,30)\n",
    "yy=(-W1[2]-W1[0]*xx)/W1[1]"
   ]
  },
  {
   "cell_type": "code",
   "execution_count": 13,
   "metadata": {},
   "outputs": [
    {
     "data": {
      "text/plain": [
       "Text(0.5, 1.0, '1.1 Scatterplot along with Seperating hyperplane')"
      ]
     },
     "execution_count": 13,
     "metadata": {},
     "output_type": "execute_result"
    },
    {
     "data": {
      "image/png": "[encoded data removed]",
      "text/plain": [
       "<Figure size 504x504 with 1 Axes>"
      ]
     },
     "metadata": {
      "needs_background": "light"
     },
     "output_type": "display_data"
    }
   ],
   "source": [
    "plt.figure(figsize=(7,7))\n",
    "plt.scatter(X[0:100,0],X[0:100,1],color=\"red\",marker='+')\n",
    "plt.scatter(X[100:200,0],X[100:200,1],color=\"blue\",marker='*')\n",
    "plt.plot(xx,yy)\n",
    "plt.title(\"1.1 Scatterplot along with Seperating hyperplane\")"
   ]
  },
  {
   "cell_type": "code",
   "execution_count": 14,
   "metadata": {},
   "outputs": [],
   "source": [
    "#Initializing w as vector from our set\n",
    "W2=X[np.random.randint(0,200),:]"
   ]
  },
  {
   "cell_type": "code",
   "execution_count": 15,
   "metadata": {},
   "outputs": [
    {
     "name": "stdout",
     "output_type": "stream",
     "text": [
      "Updated value of w is  [16.1562313   6.37152902  0.        ]\n",
      "Updated value of w is  [ 6.50329108 -4.10920571 -1.        ]\n",
      "Updated value of w is  [ -5.40172986 -16.78553491  -2.        ]\n",
      "Updated value of w is  [ 11.69286841 -12.15971873  -1.        ]\n"
     ]
    },
    {
     "data": {
      "text/plain": [
       "array([ 11.69286841, -12.15971873,  -1.        ])"
      ]
     },
     "execution_count": 15,
     "metadata": {},
     "output_type": "execute_result"
    }
   ],
   "source": [
    "#This has the lowest numberof iterations\n",
    "W2=perceptron(X,Y,W2)\n",
    "W2"
   ]
  },
  {
   "cell_type": "code",
   "execution_count": 16,
   "metadata": {},
   "outputs": [],
   "source": [
    "xx=np.linspace(0,30)\n",
    "yy=(-W2[2]-W2[0]*xx)/W2[1]"
   ]
  },
  {
   "cell_type": "code",
   "execution_count": 17,
   "metadata": {},
   "outputs": [
    {
     "data": {
      "text/plain": [
       "Text(0.5, 1.0, '1.2 Scatterplot along with Seperating hyperplane')"
      ]
     },
     "execution_count": 17,
     "metadata": {},
     "output_type": "execute_result"
    },
    {
     "data": {
      "image/png": "[encoded data removed]",
      "text/plain": [
       "<Figure size 504x504 with 1 Axes>"
      ]
     },
     "metadata": {
      "needs_background": "light"
     },
     "output_type": "display_data"
    }
   ],
   "source": [
    "plt.figure(figsize=(7,7))\n",
    "plt.scatter(X[0:100,0],X[0:100,1],color=\"red\",marker='+')\n",
    "plt.scatter(X[100:200,0],X[100:200,1],color=\"blue\",marker='*')\n",
    "plt.plot(xx,yy)\n",
    "plt.title(\"1.2 Scatterplot along with Seperating hyperplane\")"
   ]
  },
  {
   "cell_type": "code",
   "execution_count": 18,
   "metadata": {},
   "outputs": [],
   "source": [
    "#Including a learning rate parameter\n",
    "def perceptron_modified(X,Y,w,lr=0.1):\n",
    "    f=1\n",
    "    iters=0\n",
    "    while f==1:\n",
    "        f=0\n",
    "        for i in range(200):\n",
    "            if Y[i]*np.dot(X[i,:],w)<=0:\n",
    "                w=w+lr*Y[i]*X[i,:]\n",
    "                f=1\n",
    "                iters+=1\n",
    "    \n",
    "    return w,iters"
   ]
  },
  {
   "cell_type": "code",
   "execution_count": 19,
   "metadata": {},
   "outputs": [],
   "source": [
    "Wm=X[np.random.randint(0,200),:]\n",
    "l=np.linspace(0.01,1,11)\n",
    "L=[]\n",
    "its=[]\n",
    "for i in l:\n",
    "    wee,itr=perceptron_modified(X,Y,Wm,i)\n",
    "    L.append(wee)\n",
    "    its.append(itr)"
   ]
  },
  {
   "cell_type": "code",
   "execution_count": 20,
   "metadata": {},
   "outputs": [
    {
     "data": {
      "text/plain": [
       "Text(0, 0.5, 'Number of updates of w')"
      ]
     },
     "execution_count": 20,
     "metadata": {},
     "output_type": "execute_result"
    },
    {
     "data": {
      "image/png": "[encoded data removed]",
      "text/plain": [
       "<Figure size 432x288 with 1 Axes>"
      ]
     },
     "metadata": {
      "needs_background": "light"
     },
     "output_type": "display_data"
    }
   ],
   "source": [
    "plt.plot(l,its)\n",
    "plt.title(\"1.3 Number of updates of w  vs  learning rate\")\n",
    "plt.xlabel(\"Learning Rate\")\n",
    "plt.ylabel(\"Number of updates of w\")"
   ]
  },
  {
   "cell_type": "code",
   "execution_count": null,
   "metadata": {},
   "outputs": [],
   "source": []
  }
 ],
 "metadata": {
  "kernelspec": {
   "display_name": "Python 3",
   "language": "python",
   "name": "python3"
  },
  "language_info": {
   "codemirror_mode": {
    "name": "ipython",
    "version": 3
   },
   "file_extension": ".py",
   "mimetype": "text/x-python",
   "name": "python",
   "nbconvert_exporter": "python",
   "pygments_lexer": "ipython3",
   "version": "3.7.3"
  }
 },
 "nbformat": 4,
 "nbformat_minor": 5
}
